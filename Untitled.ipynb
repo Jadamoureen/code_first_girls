{
 "cells": [
  {
   "cell_type": "code",
   "execution_count": 1,
   "metadata": {},
   "outputs": [
    {
     "name": "stdout",
     "output_type": "stream",
     "text": [
      "{\"daughter's name\": 'Eva', \"daughter's eyes\": 'blue', \"duagther's weight\": 174, \"daughter's height\": 60}\n"
     ]
    }
   ],
   "source": [
    "dict_2 = {\"daughter's name\":\"Eva\",\"daughter's eyes\":\"blue\",\"duagther's weight\":174,\"daughter's height\":50}\n",
    "\n",
    "#add 10 inches to the height\n",
    "\n",
    "dict_2[\"daughter's height\"]= 50+10\n",
    "print(dict_2)"
   ]
  },
  {
   "cell_type": "code",
   "execution_count": 2,
   "metadata": {},
   "outputs": [
    {
     "name": "stdout",
     "output_type": "stream",
     "text": [
      "{\"daughter's name\": 'Eva', \"daughter's eyes\": 'blue', \"duagther's weight\": 174, \"daughter's height\": 70}\n"
     ]
    }
   ],
   "source": [
    "dict_2[\"daughter's height\"]=dict_2[\"daughter's height\"]+10\n",
    "print(dict_2)"
   ]
  },
  {
   "cell_type": "code",
   "execution_count": 4,
   "metadata": {},
   "outputs": [
    {
     "name": "stdout",
     "output_type": "stream",
     "text": [
      "dict_items([(\"daughter's name\", 'Eva'), (\"daughter's eyes\", 'blue'), (\"duagther's weight\", 174), (\"daughter's height\", 50)])\n"
     ]
    }
   ],
   "source": [
    "dict_2 = {\"daughter's name\":\"Eva\",\"daughter's eyes\":\"blue\",\"duagther's weight\":174,\"daughter's height\":50}\n",
    "\n",
    "#use method called items to generate a list of tuples\n",
    "\n",
    "tup1 = dict_2.items()\n",
    "print(tup1)"
   ]
  },
  {
   "cell_type": "code",
   "execution_count": 5,
   "metadata": {},
   "outputs": [
    {
     "name": "stdout",
     "output_type": "stream",
     "text": [
      "blue\n"
     ]
    }
   ],
   "source": [
    "dict_2 = {\"daughter's name\":\"Eva\",\"daughter's eyes\":\"blue\",\"duagther's weight\":174,\"daughter's height\":50}\n",
    "\n",
    "#use method called get to print the value of daughter's eyes\n",
    "\n",
    "print(dict_2.get(\"daughter's eyes\"))"
   ]
  },
  {
   "cell_type": "code",
   "execution_count": 6,
   "metadata": {},
   "outputs": [
    {
     "name": "stdout",
     "output_type": "stream",
     "text": [
      "20\n"
     ]
    }
   ],
   "source": [
    "dict_2 = {\"daughter's name\":\"Eva\",\"daughter's eyes\":\"blue\",\"duagther's weight\":174,\"daughter's height\":50}\n",
    "\n",
    "\n",
    "#use the get method to look for my daughter's age but if nothing \n",
    "#nothing appears make the get method to return 20\n",
    "\n",
    "if dict_2.get(\"daughter's age\")==True:\n",
    "    print(dict_2.get(\"daughter's age\"))\n",
    "else:\n",
    "    print(20)"
   ]
  },
  {
   "cell_type": "code",
   "execution_count": 7,
   "metadata": {},
   "outputs": [
    {
     "name": "stdout",
     "output_type": "stream",
     "text": [
      "20\n"
     ]
    }
   ],
   "source": [
    "dict_2 = {\"daughter's name\":\"Eva\",\"daughter's eyes\":\"blue\",\"duagther's weight\":174,\"daughter's height\":50}\n",
    "\n",
    "ans = dict_2.get(\"daughter's age\", 20)\n",
    "print(ans)"
   ]
  },
  {
   "cell_type": "code",
   "execution_count": 8,
   "metadata": {},
   "outputs": [
    {
     "name": "stdout",
     "output_type": "stream",
     "text": [
      "None\n"
     ]
    }
   ],
   "source": [
    "dict_2 = {\"daughter's name\":\"Eva\",\"daughter's eyes\":\"blue\",\"duagther's weight\":174,\"daughter's height\":50}\n",
    "\n",
    "#use clear method and clear whole dictinoary\n",
    "\n",
    "print(dict_2.clear())"
   ]
  },
  {
   "cell_type": "code",
   "execution_count": 9,
   "metadata": {},
   "outputs": [
    {
     "name": "stdout",
     "output_type": "stream",
     "text": [
      "{}\n"
     ]
    }
   ],
   "source": [
    "dict_2 = {\"daughter's name\":\"Eva\",\"daughter's eyes\":\"blue\",\"duagther's weight\":174,\"daughter's height\":50}\n",
    "dict_2.clear()\n",
    "print(dict_2)"
   ]
  },
  {
   "cell_type": "code",
   "execution_count": 10,
   "metadata": {},
   "outputs": [
    {
     "name": "stdout",
     "output_type": "stream",
     "text": [
      "4\n"
     ]
    }
   ],
   "source": [
    "dict_2 = {\"daughter's name\":\"Eva\",\"daughter's eyes\":\"blue\",\"duagther's weight\":174,\"daughter's height\":50}\n",
    "\n",
    "#use len funtion and findout how many keys are in our dictionary\n",
    "\n",
    "keys = len(dict_2)\n",
    "print(keys)"
   ]
  },
  {
   "cell_type": "code",
   "execution_count": 12,
   "metadata": {},
   "outputs": [
    {
     "name": "stdout",
     "output_type": "stream",
     "text": [
      "daugther's weight\n"
     ]
    }
   ],
   "source": [
    "dict_2 = {\"daughter's name\":\"Eva\",\"daughter's eyes\":\"blue\",\"daugther's weight\":174,\"daughter's height\":50}\n",
    "\n",
    "#using the maximum function, what is the highest value in the dictionary\n",
    "highest = max(dict_2)\n",
    "print(highest)\n"
   ]
  },
  {
   "cell_type": "code",
   "execution_count": 13,
   "metadata": {},
   "outputs": [
    {
     "name": "stdout",
     "output_type": "stream",
     "text": [
      "daughter's eyes\n"
     ]
    }
   ],
   "source": [
    "dict_2 = {\"daughter's name\":\"Eva\",\"daughter's eyes\":\"blue\",\"duagther's weight\":174,\"daughter's height\":50}\n",
    "\n",
    "#would like to findout the lowest value\n",
    "\n",
    "lowest = min(dict_2)\n",
    "print(lowest)"
   ]
  },
  {
   "cell_type": "markdown",
   "metadata": {},
   "source": [
    "# Strings methods"
   ]
  },
  {
   "cell_type": "code",
   "execution_count": 16,
   "metadata": {},
   "outputs": [
    {
     "name": "stdout",
     "output_type": "stream",
     "text": [
      "solomon\n"
     ]
    }
   ],
   "source": [
    "# write a string and explain what casefold method does\n",
    "\n",
    "name = \"SOLOMON\"\n",
    "\n",
    "print(name.casefold())"
   ]
  },
  {
   "cell_type": "code",
   "execution_count": 19,
   "metadata": {},
   "outputs": [
    {
     "name": "stdout",
     "output_type": "stream",
     "text": [
      "           SOLOMON            \n"
     ]
    }
   ],
   "source": [
    "name = \"SOLOMON\"\n",
    "\n",
    "#Use the center method to center the string \n",
    "\n",
    "print(name.center(30))"
   ]
  },
  {
   "cell_type": "code",
   "execution_count": 22,
   "metadata": {},
   "outputs": [
    {
     "name": "stdout",
     "output_type": "stream",
     "text": [
      "True\n"
     ]
    }
   ],
   "source": [
    "name = \"SOLOMON\"\n",
    "\n",
    "#use endswith method\n",
    "\n",
    "print(name.endswith(\"N\"))"
   ]
  },
  {
   "cell_type": "code",
   "execution_count": 26,
   "metadata": {},
   "outputs": [
    {
     "name": "stdout",
     "output_type": "stream",
     "text": [
      "-1\n"
     ]
    }
   ],
   "source": [
    "name = \"SOLOMON\"\n",
    "\n",
    "#find method\n",
    "\n",
    "print(name.find(\"z\"))"
   ]
  },
  {
   "cell_type": "code",
   "execution_count": 27,
   "metadata": {},
   "outputs": [
    {
     "name": "stdout",
     "output_type": "stream",
     "text": [
      "True\n"
     ]
    }
   ],
   "source": [
    "name = \"SOLOMON\"\n",
    "\n",
    "#isalnum\n",
    "\n",
    "print(name.isalnum())"
   ]
  },
  {
   "cell_type": "code",
   "execution_count": 28,
   "metadata": {},
   "outputs": [
    {
     "name": "stdout",
     "output_type": "stream",
     "text": [
      "True\n"
     ]
    }
   ],
   "source": [
    "name = \"SOLOMON1234\"\n",
    "\n",
    "#isalnum\n",
    "\n",
    "print(name.isalnum())"
   ]
  },
  {
   "cell_type": "code",
   "execution_count": 29,
   "metadata": {},
   "outputs": [
    {
     "name": "stdout",
     "output_type": "stream",
     "text": [
      "False\n"
     ]
    }
   ],
   "source": [
    "name = \"SOLOMON123$@£\"\n",
    "\n",
    "#isalnum\n",
    "\n",
    "print(name.isalnum())#alphanumeric "
   ]
  },
  {
   "cell_type": "code",
   "execution_count": 30,
   "metadata": {},
   "outputs": [
    {
     "name": "stdout",
     "output_type": "stream",
     "text": [
      "True\n"
     ]
    }
   ],
   "source": [
    "name = \"SOLOMON\"\n",
    "\n",
    "#isalpha\n",
    "print(name.isalpha())"
   ]
  },
  {
   "cell_type": "code",
   "execution_count": 31,
   "metadata": {},
   "outputs": [
    {
     "name": "stdout",
     "output_type": "stream",
     "text": [
      "False\n"
     ]
    }
   ],
   "source": [
    "name = \"SOLOMON1234\"\n",
    "print(name.isalpha())"
   ]
  },
  {
   "cell_type": "code",
   "execution_count": 33,
   "metadata": {},
   "outputs": [
    {
     "name": "stdout",
     "output_type": "stream",
     "text": [
      "Solomon Muwanguzi\n"
     ]
    }
   ],
   "source": [
    "tup = (\"Solomon\",\"Muwanguzi\")\n",
    "\n",
    "#join \n",
    "s = \" \".join(tup)\n",
    "\n",
    "print(s)"
   ]
  },
  {
   "cell_type": "code",
   "execution_count": 34,
   "metadata": {},
   "outputs": [
    {
     "name": "stdout",
     "output_type": "stream",
     "text": [
      "('Solomon', 'Muwanguzi')\n"
     ]
    }
   ],
   "source": [
    "tup = (\"Solomon\",\"Muwanguzi\")\n",
    "print(tup)"
   ]
  },
  {
   "cell_type": "code",
   "execution_count": 35,
   "metadata": {},
   "outputs": [
    {
     "name": "stdout",
     "output_type": "stream",
     "text": [
      "Solomon# Muwanguzi\n"
     ]
    }
   ],
   "source": [
    "tup = (\"Solomon\",\"Muwanguzi\")\n",
    "\n",
    "#join \n",
    "s = \"# \".join(tup)\n",
    "\n",
    "print(s)"
   ]
  },
  {
   "cell_type": "code",
   "execution_count": 36,
   "metadata": {},
   "outputs": [
    {
     "name": "stdout",
     "output_type": "stream",
     "text": [
      "Solomon#Muwanguzi\n"
     ]
    }
   ],
   "source": [
    "tup = (\"Solomon\",\"Muwanguzi\")\n",
    "\n",
    "#join \n",
    "s = \"#\".join(tup)\n",
    "\n",
    "print(s)"
   ]
  },
  {
   "cell_type": "code",
   "execution_count": 38,
   "metadata": {},
   "outputs": [
    {
     "name": "stdout",
     "output_type": "stream",
     "text": [
      "SOLOMON\n"
     ]
    }
   ],
   "source": [
    "#rstrip\n",
    "\n",
    "name = \"SOLOMON123$@£@@@@@\"\n",
    "\n",
    "print(name.rstrip(\"123$@£@@@@@\"))"
   ]
  },
  {
   "cell_type": "code",
   "execution_count": 39,
   "metadata": {},
   "outputs": [
    {
     "name": "stdout",
     "output_type": "stream",
     "text": [
      "123$@£@@@@@\n"
     ]
    }
   ],
   "source": [
    "#rstrip\n",
    "\n",
    "name = \"SOLOMON123$@£@@@@@\"\n",
    "\n",
    "print(name.lstrip(\"SOLOMON\"))"
   ]
  },
  {
   "cell_type": "code",
   "execution_count": 41,
   "metadata": {},
   "outputs": [
    {
     "name": "stdout",
     "output_type": "stream",
     "text": [
      "['Solomon', 'Muwanguzi']\n"
     ]
    }
   ],
   "source": [
    "name = \"Solomon Muwanguzi\"\n",
    "\n",
    "#rsplit\n",
    "\n",
    "print(name.rsplit(\" \"))"
   ]
  },
  {
   "cell_type": "code",
   "execution_count": 47,
   "metadata": {},
   "outputs": [
    {
     "name": "stdout",
     "output_type": "stream",
     "text": [
      "['Solomon', 'Muwanguzi,is', 'boy', 'from', 'Ndejje']\n"
     ]
    }
   ],
   "source": [
    "name = \"Solomon Muwanguzi,is boy from Ndejje\"\n",
    "\n",
    "#use split\n",
    "\n",
    "print(name.split())"
   ]
  },
  {
   "cell_type": "code",
   "execution_count": 46,
   "metadata": {},
   "outputs": [
    {
     "name": "stdout",
     "output_type": "stream",
     "text": [
      "['Solomon Muwanguzi,is boy from Ndejje']\n"
     ]
    }
   ],
   "source": [
    "name = \"Solomon Muwanguzi,is boy from Ndejje\"\n",
    "\n",
    "#splitlines\n",
    "\n",
    "print(name.splitlines())"
   ]
  },
  {
   "cell_type": "code",
   "execution_count": 48,
   "metadata": {},
   "outputs": [
    {
     "name": "stdout",
     "output_type": "stream",
     "text": [
      "mY coding school is MINDSET CODERS\n"
     ]
    }
   ],
   "source": [
    "text = \"My CODING SCHOOL IS mindset coders\"\n",
    "\n",
    "#swapcase\n",
    "\n",
    "r = text.swapcase()\n",
    "print(r)"
   ]
  },
  {
   "cell_type": "markdown",
   "metadata": {},
   "source": [
    "# Type conversion"
   ]
  },
  {
   "cell_type": "code",
   "execution_count": 50,
   "metadata": {},
   "outputs": [
    {
     "name": "stdout",
     "output_type": "stream",
     "text": [
      "99\n"
     ]
    }
   ],
   "source": [
    "Grades = \"99\"\n",
    "\n",
    "#converting a string into interger\n",
    "Grades = int(\"99\")\n",
    "print(Grades)"
   ]
  },
  {
   "cell_type": "code",
   "execution_count": 51,
   "metadata": {},
   "outputs": [
    {
     "name": "stdout",
     "output_type": "stream",
     "text": [
      "99\n"
     ]
    }
   ],
   "source": [
    "Grades = 99.9\n",
    "\n",
    "#convert a float into an interger\n",
    "Grades = int(99.9)\n",
    "print(Grades)"
   ]
  },
  {
   "cell_type": "code",
   "execution_count": 52,
   "metadata": {},
   "outputs": [
    {
     "name": "stdout",
     "output_type": "stream",
     "text": [
      "99.9\n"
     ]
    }
   ],
   "source": [
    "Grades = \"99.9\"\n",
    "\n",
    "#convert a string into a float\n",
    "\n",
    "Grades = float(\"99.9\")\n",
    "print(Grades)"
   ]
  },
  {
   "cell_type": "code",
   "execution_count": null,
   "metadata": {},
   "outputs": [],
   "source": []
  }
 ],
 "metadata": {
  "kernelspec": {
   "display_name": "Python 3",
   "language": "python",
   "name": "python3"
  },
  "language_info": {
   "codemirror_mode": {
    "name": "ipython",
    "version": 3
   },
   "file_extension": ".py",
   "mimetype": "text/x-python",
   "name": "python",
   "nbconvert_exporter": "python",
   "pygments_lexer": "ipython3",
   "version": "3.8.5"
  }
 },
 "nbformat": 4,
 "nbformat_minor": 4
}
