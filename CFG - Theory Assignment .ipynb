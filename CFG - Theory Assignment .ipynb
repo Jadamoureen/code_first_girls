{
 "cells": [
  {
   "cell_type": "markdown",
   "metadata": {},
   "source": [
    "# Python String methods"
   ]
  },
  {
   "cell_type": "code",
   "execution_count": 2,
   "metadata": {},
   "outputs": [
    {
     "name": "stdout",
     "output_type": "stream",
     "text": [
      "Moureen\n"
     ]
    }
   ],
   "source": [
    "name = \"moureen\"\n",
    "print(name.capitalize())"
   ]
  },
  {
   "cell_type": "code",
   "execution_count": 4,
   "metadata": {},
   "outputs": [
    {
     "name": "stdout",
     "output_type": "stream",
     "text": [
      "moureen\n"
     ]
    }
   ],
   "source": [
    "name = \"MOUREEN\"\n",
    "print(name.casefold())"
   ]
  },
  {
   "cell_type": "code",
   "execution_count": 6,
   "metadata": {},
   "outputs": [
    {
     "name": "stdout",
     "output_type": "stream",
     "text": [
      "      Moureen       \n"
     ]
    }
   ],
   "source": [
    "name = \"Moureen\"\n",
    "n = name.center(20)\n",
    "print(n)"
   ]
  },
  {
   "cell_type": "code",
   "execution_count": 7,
   "metadata": {},
   "outputs": [
    {
     "name": "stdout",
     "output_type": "stream",
     "text": [
      "2\n"
     ]
    }
   ],
   "source": [
    "text = \"I love Data science and Data science loves me\"\n",
    "answer = text.count(\"Data science\")\n",
    "print(answer)"
   ]
  },
  {
   "cell_type": "code",
   "execution_count": 9,
   "metadata": {},
   "outputs": [
    {
     "name": "stdout",
     "output_type": "stream",
     "text": [
      "True\n"
     ]
    }
   ],
   "source": [
    "text_2 = \"Hello World!\"\n",
    "answer_2 = text_2.endswith(\"!\")\n",
    "print(answer_2)"
   ]
  },
  {
   "cell_type": "code",
   "execution_count": 10,
   "metadata": {},
   "outputs": [
    {
     "name": "stdout",
     "output_type": "stream",
     "text": [
      "6\n"
     ]
    }
   ],
   "source": [
    "text_2 = \"Hello World!\"\n",
    "answer_2 = text_2.find(\"World\")\n",
    "print(answer_2)"
   ]
  },
  {
   "cell_type": "code",
   "execution_count": 12,
   "metadata": {},
   "outputs": [
    {
     "name": "stdout",
     "output_type": "stream",
     "text": [
      "-1\n"
     ]
    }
   ],
   "source": [
    "text_2 = \"Hello World!\"\n",
    "answer_2 = text_2.find(\"Moureen\")\n",
    "print(answer_2)"
   ]
  },
  {
   "cell_type": "code",
   "execution_count": 13,
   "metadata": {},
   "outputs": [
    {
     "name": "stdout",
     "output_type": "stream",
     "text": [
      "My name is Moureen, I'm Caroline\n"
     ]
    }
   ],
   "source": [
    "text_3 = \"My name is {fname}, I'm {lname}\".format(fname = \"Moureen\", lname = \"Caroline\")\n",
    "print(text_3)"
   ]
  },
  {
   "cell_type": "code",
   "execution_count": 14,
   "metadata": {},
   "outputs": [
    {
     "name": "stdout",
     "output_type": "stream",
     "text": [
      "6\n"
     ]
    }
   ],
   "source": [
    "text_2 = \"Hello World!\"\n",
    "answer_2 = text_2.index(\"World\")\n",
    "print(answer_2)"
   ]
  },
  {
   "cell_type": "code",
   "execution_count": 15,
   "metadata": {},
   "outputs": [
    {
     "ename": "ValueError",
     "evalue": "substring not found",
     "output_type": "error",
     "traceback": [
      "\u001b[0;31m---------------------------------------------------------------------------\u001b[0m",
      "\u001b[0;31mValueError\u001b[0m                                Traceback (most recent call last)",
      "\u001b[0;32m<ipython-input-15-aa9d1b909f0e>\u001b[0m in \u001b[0;36m<module>\u001b[0;34m\u001b[0m\n\u001b[1;32m      1\u001b[0m \u001b[0mtext_2\u001b[0m \u001b[0;34m=\u001b[0m \u001b[0;34m\"Hello World!\"\u001b[0m\u001b[0;34m\u001b[0m\u001b[0;34m\u001b[0m\u001b[0m\n\u001b[0;32m----> 2\u001b[0;31m \u001b[0manswer_2\u001b[0m \u001b[0;34m=\u001b[0m \u001b[0mtext_2\u001b[0m\u001b[0;34m.\u001b[0m\u001b[0mindex\u001b[0m\u001b[0;34m(\u001b[0m\u001b[0;34m\"Moureen\"\u001b[0m\u001b[0;34m)\u001b[0m\u001b[0;34m\u001b[0m\u001b[0;34m\u001b[0m\u001b[0m\n\u001b[0m\u001b[1;32m      3\u001b[0m \u001b[0mprint\u001b[0m\u001b[0;34m(\u001b[0m\u001b[0manswer_2\u001b[0m\u001b[0;34m)\u001b[0m\u001b[0;34m\u001b[0m\u001b[0;34m\u001b[0m\u001b[0m\n",
      "\u001b[0;31mValueError\u001b[0m: substring not found"
     ]
    }
   ],
   "source": [
    "text_2 = \"Hello World!\"\n",
    "answer_2 = text_2.index(\"Moureen\")\n",
    "print(answer_2)"
   ]
  },
  {
   "cell_type": "code",
   "execution_count": 16,
   "metadata": {},
   "outputs": [
    {
     "name": "stdout",
     "output_type": "stream",
     "text": [
      "True\n"
     ]
    }
   ],
   "source": [
    "name = \"Moureen\"\n",
    "text = name.isalnum()\n",
    "print(text)"
   ]
  },
  {
   "cell_type": "code",
   "execution_count": 19,
   "metadata": {},
   "outputs": [
    {
     "name": "stdout",
     "output_type": "stream",
     "text": [
      "False\n"
     ]
    }
   ],
   "source": [
    "name = \"Moureen1234!@£\"\n",
    "text = name.isalnum()\n",
    "print(text)"
   ]
  },
  {
   "cell_type": "code",
   "execution_count": 20,
   "metadata": {},
   "outputs": [
    {
     "name": "stdout",
     "output_type": "stream",
     "text": [
      "True\n"
     ]
    }
   ],
   "source": [
    "name = \"Moureen\"\n",
    "text_1 = name.isalpha()\n",
    "print(text_1)"
   ]
  },
  {
   "cell_type": "code",
   "execution_count": 21,
   "metadata": {},
   "outputs": [
    {
     "name": "stdout",
     "output_type": "stream",
     "text": [
      "False\n"
     ]
    }
   ],
   "source": [
    "name = \"Moureen1234\"\n",
    "text_1 = name.isalpha()\n",
    "print(text_1)"
   ]
  },
  {
   "cell_type": "code",
   "execution_count": 22,
   "metadata": {},
   "outputs": [
    {
     "name": "stdout",
     "output_type": "stream",
     "text": [
      "False\n"
     ]
    }
   ],
   "source": [
    "txt = \"School\"\n",
    "ans = txt.isdigit()\n",
    "print(ans)"
   ]
  },
  {
   "cell_type": "code",
   "execution_count": 23,
   "metadata": {},
   "outputs": [
    {
     "name": "stdout",
     "output_type": "stream",
     "text": [
      "True\n"
     ]
    }
   ],
   "source": [
    "txt = \"12345\"\n",
    "ans = txt.isdigit()\n",
    "print(ans)"
   ]
  },
  {
   "cell_type": "code",
   "execution_count": 24,
   "metadata": {},
   "outputs": [
    {
     "name": "stdout",
     "output_type": "stream",
     "text": [
      "False\n"
     ]
    }
   ],
   "source": [
    "text = \"Hello World!\"\n",
    "ans = text.islower()\n",
    "print(ans)"
   ]
  },
  {
   "cell_type": "code",
   "execution_count": 25,
   "metadata": {},
   "outputs": [
    {
     "name": "stdout",
     "output_type": "stream",
     "text": [
      "True\n"
     ]
    }
   ],
   "source": [
    "text = \"hello world\"\n",
    "ans = text.islower()\n",
    "print(ans)"
   ]
  },
  {
   "cell_type": "code",
   "execution_count": 26,
   "metadata": {},
   "outputs": [
    {
     "name": "stdout",
     "output_type": "stream",
     "text": [
      "True\n"
     ]
    }
   ],
   "source": [
    "txt_2 = \"1234\"\n",
    "ans_3 = txt_2.isnumeric()\n",
    "print(ans_3)"
   ]
  },
  {
   "cell_type": "code",
   "execution_count": 27,
   "metadata": {},
   "outputs": [
    {
     "name": "stdout",
     "output_type": "stream",
     "text": [
      "False\n"
     ]
    }
   ],
   "source": [
    "txt_2 = \"Moureen\"\n",
    "ans_3 = txt_2.isnumeric()\n",
    "print(ans_3)"
   ]
  },
  {
   "cell_type": "code",
   "execution_count": 28,
   "metadata": {},
   "outputs": [
    {
     "name": "stdout",
     "output_type": "stream",
     "text": [
      "True\n"
     ]
    }
   ],
   "source": [
    "a = \"\\u0030\" \n",
    "b = a.isnumeric()\n",
    "print(b)"
   ]
  },
  {
   "cell_type": "code",
   "execution_count": 29,
   "metadata": {},
   "outputs": [
    {
     "name": "stdout",
     "output_type": "stream",
     "text": [
      "False\n"
     ]
    }
   ],
   "source": [
    "names = \"Moureen Caroline\"\n",
    "ans_4 = names.isspace()\n",
    "print(ans_4)"
   ]
  },
  {
   "cell_type": "code",
   "execution_count": 32,
   "metadata": {},
   "outputs": [
    {
     "name": "stdout",
     "output_type": "stream",
     "text": [
      "True\n"
     ]
    }
   ],
   "source": [
    "names = \"   \"\n",
    "ans_4 = names.isspace()\n",
    "print(ans_4)"
   ]
  },
  {
   "cell_type": "code",
   "execution_count": 33,
   "metadata": {},
   "outputs": [
    {
     "name": "stdout",
     "output_type": "stream",
     "text": [
      "True\n"
     ]
    }
   ],
   "source": [
    "names = \"Moureen Caroline\"\n",
    "ans = names.istitle()\n",
    "print(ans)"
   ]
  },
  {
   "cell_type": "code",
   "execution_count": 34,
   "metadata": {},
   "outputs": [
    {
     "name": "stdout",
     "output_type": "stream",
     "text": [
      "False\n"
     ]
    }
   ],
   "source": [
    "names = \"moureen caroline\"\n",
    "ans = names.istitle()\n",
    "print(ans)"
   ]
  },
  {
   "cell_type": "code",
   "execution_count": 35,
   "metadata": {},
   "outputs": [
    {
     "name": "stdout",
     "output_type": "stream",
     "text": [
      "True\n"
     ]
    }
   ],
   "source": [
    "names = \"MOUREEN CAROLINE\"\n",
    "ans = names.isupper()\n",
    "print(ans)"
   ]
  },
  {
   "cell_type": "code",
   "execution_count": 36,
   "metadata": {},
   "outputs": [
    {
     "name": "stdout",
     "output_type": "stream",
     "text": [
      "False\n"
     ]
    }
   ],
   "source": [
    "names = \"moureen caroline\"\n",
    "ans = names.isupper()\n",
    "print(ans)"
   ]
  },
  {
   "cell_type": "code",
   "execution_count": 40,
   "metadata": {},
   "outputs": [
    {
     "name": "stdout",
     "output_type": "stream",
     "text": [
      "Moureen Caroline Ochieng\n"
     ]
    }
   ],
   "source": [
    "tup = (\"Moureen\",\"Caroline\",\"Ochieng\")\n",
    "txt = \" \".join(tup)\n",
    "print(txt)"
   ]
  },
  {
   "cell_type": "code",
   "execution_count": 41,
   "metadata": {},
   "outputs": [
    {
     "name": "stdout",
     "output_type": "stream",
     "text": [
      "moureen\n"
     ]
    }
   ],
   "source": [
    "name = \"MOUREEN\"\n",
    "ans = name.lower()\n",
    "print(ans)"
   ]
  },
  {
   "cell_type": "code",
   "execution_count": 45,
   "metadata": {},
   "outputs": [
    {
     "name": "stdout",
     "output_type": "stream",
     "text": [
      " Bananas\n"
     ]
    }
   ],
   "source": [
    "fruits = \"Apples Bananas\"\n",
    "test = fruits.lstrip(\"Apples\")\n",
    "print(test)\n"
   ]
  },
  {
   "cell_type": "code",
   "execution_count": 46,
   "metadata": {},
   "outputs": [
    {
     "name": "stdout",
     "output_type": "stream",
     "text": [
      "Hello World.\n"
     ]
    }
   ],
   "source": [
    "text = \"Hello World!\"\n",
    "txt = text.replace(\"!\",\".\")\n",
    "print(txt)"
   ]
  },
  {
   "cell_type": "code",
   "execution_count": 51,
   "metadata": {},
   "outputs": [
    {
     "name": "stdout",
     "output_type": "stream",
     "text": [
      "['Moureen', 'Caroline']\n"
     ]
    }
   ],
   "source": [
    "name = \"Moureen Caroline\"\n",
    "txt = name.rsplit()\n",
    "print(txt)"
   ]
  },
  {
   "cell_type": "code",
   "execution_count": 53,
   "metadata": {},
   "outputs": [
    {
     "name": "stdout",
     "output_type": "stream",
     "text": [
      "Moureen \n"
     ]
    }
   ],
   "source": [
    "name = \"Moureen Caroline\"\n",
    "txt = name.rstrip(\"Caroline\")\n",
    "print(txt)"
   ]
  },
  {
   "cell_type": "code",
   "execution_count": 54,
   "metadata": {},
   "outputs": [
    {
     "name": "stdout",
     "output_type": "stream",
     "text": [
      "['Hello', 'World,', 'Welcome', 'to', 'python']\n"
     ]
    }
   ],
   "source": [
    "text = \"Hello World, Welcome to python\"\n",
    "tx = text.split()\n",
    "print(tx)"
   ]
  },
  {
   "cell_type": "code",
   "execution_count": 55,
   "metadata": {},
   "outputs": [
    {
     "name": "stdout",
     "output_type": "stream",
     "text": [
      "['Hello World, Welcome to python']\n"
     ]
    }
   ],
   "source": [
    "text = \"Hello World, Welcome to python\"\n",
    "tx = text.splitlines()\n",
    "print(tx)"
   ]
  },
  {
   "cell_type": "code",
   "execution_count": 56,
   "metadata": {},
   "outputs": [
    {
     "name": "stdout",
     "output_type": "stream",
     "text": [
      "False\n"
     ]
    }
   ],
   "source": [
    "text = \"Hello World, Welcome to python\"\n",
    "tx = text.startswith(\"o\")\n",
    "print(tx)"
   ]
  },
  {
   "cell_type": "code",
   "execution_count": 57,
   "metadata": {},
   "outputs": [
    {
     "name": "stdout",
     "output_type": "stream",
     "text": [
      "True\n"
     ]
    }
   ],
   "source": [
    "text = \"Hello World, Welcome to python\"\n",
    "tx = text.startswith(\"H\")\n",
    "print(tx)"
   ]
  },
  {
   "cell_type": "code",
   "execution_count": 59,
   "metadata": {},
   "outputs": [
    {
     "name": "stdout",
     "output_type": "stream",
     "text": [
      "World\n"
     ]
    }
   ],
   "source": [
    "text = \"£££££££World@@@@@@\"\n",
    "tx = text.strip(\"@£\")\n",
    "print(tx)"
   ]
  },
  {
   "cell_type": "code",
   "execution_count": 60,
   "metadata": {},
   "outputs": [
    {
     "name": "stdout",
     "output_type": "stream",
     "text": [
      "mY community IS cODE fIRST gIRLS\n"
     ]
    }
   ],
   "source": [
    "text = \"My COMMUNITY is Code First Girls\"\n",
    "t = text.swapcase()\n",
    "print(t)"
   ]
  },
  {
   "cell_type": "code",
   "execution_count": 62,
   "metadata": {},
   "outputs": [
    {
     "name": "stdout",
     "output_type": "stream",
     "text": [
      "My Community Is Code First Girls\n"
     ]
    }
   ],
   "source": [
    "text = \"my community is code first girls\"\n",
    "z = text.title()\n",
    "print(z)"
   ]
  },
  {
   "cell_type": "code",
   "execution_count": 64,
   "metadata": {},
   "outputs": [
    {
     "name": "stdout",
     "output_type": "stream",
     "text": [
      "MY COMMUNITY IS CODE FIRST GIRLS\n"
     ]
    }
   ],
   "source": [
    "text = \"my community is code first girls\"\n",
    "y = text.upper()\n",
    "print(y)"
   ]
  },
  {
   "cell_type": "markdown",
   "metadata": {},
   "source": [
    "# Python List methods"
   ]
  },
  {
   "cell_type": "code",
   "execution_count": 67,
   "metadata": {},
   "outputs": [
    {
     "name": "stdout",
     "output_type": "stream",
     "text": [
      "['Cabbage', 'Tomato Paste', 'Onions', 'Rice', 'Irish potatoes']\n"
     ]
    }
   ],
   "source": [
    "groccery_list = [\"Cabbage\",\"Tomato Paste\",\"Onions\",\"Rice\"]\n",
    "ans = groccery_list.append(\"Irish potatoes\")\n",
    "print(groccery_list)"
   ]
  },
  {
   "cell_type": "code",
   "execution_count": 68,
   "metadata": {},
   "outputs": [
    {
     "name": "stdout",
     "output_type": "stream",
     "text": [
      "['Cabbage', 'Tomato Paste', 'Onions', 'Rice', ['Irish potatoes', 'Sweet potatoes', 'gas']]\n"
     ]
    }
   ],
   "source": [
    "groccery_list = [\"Cabbage\",\"Tomato Paste\",\"Onions\",\"Rice\"]\n",
    "ans1 = groccery_list.append([\"Irish potatoes\",\"Sweet potatoes\",\"gas\"])\n",
    "print(groccery_list)"
   ]
  },
  {
   "cell_type": "code",
   "execution_count": 77,
   "metadata": {},
   "outputs": [
    {
     "name": "stdout",
     "output_type": "stream",
     "text": [
      "[]\n"
     ]
    }
   ],
   "source": [
    "basket_list = [\"Mop\",\"Rug\",\"Broom\",\"Bucket\"]\n",
    "basket_list.clear()\n",
    "print(basket_list)"
   ]
  },
  {
   "cell_type": "code",
   "execution_count": 78,
   "metadata": {},
   "outputs": [
    {
     "name": "stdout",
     "output_type": "stream",
     "text": [
      "['Mop', 'Rug', 'Broom', 'Bucket']\n"
     ]
    }
   ],
   "source": [
    "basket_list = [\"Mop\",\"Rug\",\"Broom\",\"Bucket\"]\n",
    "x = basket_list.copy()\n",
    "print(x)"
   ]
  },
  {
   "cell_type": "code",
   "execution_count": 75,
   "metadata": {},
   "outputs": [
    {
     "name": "stdout",
     "output_type": "stream",
     "text": [
      "2\n"
     ]
    }
   ],
   "source": [
    "basket_list = [\"Mop\",\"Rug\",\"Broom\",\"Bucket\",\"Bucket\"]\n",
    "y = basket_list.count(\"Bucket\")\n",
    "print(y)"
   ]
  },
  {
   "cell_type": "code",
   "execution_count": 87,
   "metadata": {},
   "outputs": [
    {
     "name": "stdout",
     "output_type": "stream",
     "text": [
      "['apple', 'banana', 'cherry', 'Ford', 'BMW', 'Volvo']\n"
     ]
    }
   ],
   "source": [
    "fruits = ['apple', 'banana', 'cherry']\n",
    "\n",
    "cars = ['Ford', 'BMW', 'Volvo']\n",
    "\n",
    "fruits.extend(cars)\n",
    "print(fruits)"
   ]
  },
  {
   "cell_type": "code",
   "execution_count": 89,
   "metadata": {},
   "outputs": [
    {
     "name": "stdout",
     "output_type": "stream",
     "text": [
      "['Cabbage', 'Tomato Paste', 'Onions', 'Rice', 'Irish', 'Flour']\n"
     ]
    }
   ],
   "source": [
    "groccery_list = [\"Cabbage\",\"Tomato Paste\",\"Onions\",\"Rice\"]\n",
    "ans = [\"Irish\",\"Flour\"]\n",
    "groccery_list.extend(ans)\n",
    "print(groccery_list)"
   ]
  },
  {
   "cell_type": "code",
   "execution_count": 91,
   "metadata": {},
   "outputs": [
    {
     "name": "stdout",
     "output_type": "stream",
     "text": [
      "['Cabbage', 'Tomato Paste', 'Onions', 'Rice', 'Irish']\n"
     ]
    }
   ],
   "source": [
    "groccery_list = [\"Cabbage\",\"Tomato Paste\",\"Onions\",\"Rice\"]\n",
    "ans = [\"Irish\"]\n",
    "groccery_list.extend(ans)\n",
    "print(groccery_list)"
   ]
  },
  {
   "cell_type": "code",
   "execution_count": 81,
   "metadata": {},
   "outputs": [
    {
     "name": "stdout",
     "output_type": "stream",
     "text": [
      "['Cabbage', 'Tomato Paste', 'Onions', 'Rice', 'Irish potatoes', 'Sweet potatoes', 'gas']\n"
     ]
    }
   ],
   "source": [
    "groccery_list = [\"Cabbage\",\"Tomato Paste\",\"Onions\",\"Rice\"]\n",
    "ans1 = groccery_list.extend([\"Irish potatoes\",\"Sweet potatoes\",\"gas\"])\n",
    "print(groccery_list)"
   ]
  },
  {
   "cell_type": "code",
   "execution_count": 93,
   "metadata": {},
   "outputs": [
    {
     "name": "stdout",
     "output_type": "stream",
     "text": [
      "1\n"
     ]
    }
   ],
   "source": [
    "groccery_list = [\"Cabbage\",\"Tomato Paste\",\"Onions\",\"Rice\"]\n",
    "ans2 = groccery_list.index(\"Tomato Paste\")\n",
    "print(ans2)"
   ]
  },
  {
   "cell_type": "code",
   "execution_count": 94,
   "metadata": {},
   "outputs": [
    {
     "name": "stdout",
     "output_type": "stream",
     "text": [
      "2\n"
     ]
    }
   ],
   "source": [
    "groccery_list = [\"Cabbage\",\"Tomato Paste\",\"Onions\",\"Rice\",\"Onions\"]\n",
    "ans3 = groccery_list.index(\"Onions\")\n",
    "print(ans3)"
   ]
  },
  {
   "cell_type": "code",
   "execution_count": 100,
   "metadata": {},
   "outputs": [
    {
     "name": "stdout",
     "output_type": "stream",
     "text": [
      "['Mop', 'Rug', 'Basin', 'Broom', 'Bucket']\n"
     ]
    }
   ],
   "source": [
    "basket_list = [\"Mop\",\"Rug\",\"Broom\",\"Bucket\"]\n",
    "v = basket_list.insert(2,\"Basin\")\n",
    "print(basket_list)"
   ]
  },
  {
   "cell_type": "code",
   "execution_count": 101,
   "metadata": {},
   "outputs": [
    {
     "name": "stdout",
     "output_type": "stream",
     "text": [
      "['Mop', 'Rug', 'Broom']\n"
     ]
    }
   ],
   "source": [
    "basket_list = [\"Mop\",\"Rug\",\"Broom\",\"Bucket\"]\n",
    "w = basket_list.pop()\n",
    "print(basket_list)"
   ]
  },
  {
   "cell_type": "code",
   "execution_count": 102,
   "metadata": {},
   "outputs": [
    {
     "name": "stdout",
     "output_type": "stream",
     "text": [
      "['Mop', 'Rug', 'Bucket']\n"
     ]
    }
   ],
   "source": [
    "basket_list = [\"Mop\",\"Rug\",\"Broom\",\"Bucket\"]\n",
    "x = basket_list.pop(2)\n",
    "print(basket_list)"
   ]
  },
  {
   "cell_type": "code",
   "execution_count": 104,
   "metadata": {},
   "outputs": [
    {
     "name": "stdout",
     "output_type": "stream",
     "text": [
      "['Mop', 'Broom', 'Bucket']\n"
     ]
    }
   ],
   "source": [
    "basket_list = [\"Mop\",\"Rug\",\"Broom\",\"Bucket\"]\n",
    "d = basket_list.remove(\"Rug\")\n",
    "print(basket_list)"
   ]
  },
  {
   "cell_type": "code",
   "execution_count": 105,
   "metadata": {},
   "outputs": [
    {
     "name": "stdout",
     "output_type": "stream",
     "text": [
      "['Bucket', 'Broom', 'Rug', 'Mop']\n"
     ]
    }
   ],
   "source": [
    "basket_list = [\"Mop\",\"Rug\",\"Broom\",\"Bucket\"]\n",
    "e = basket_list.reverse()\n",
    "print(basket_list)"
   ]
  },
  {
   "cell_type": "code",
   "execution_count": 106,
   "metadata": {},
   "outputs": [
    {
     "name": "stdout",
     "output_type": "stream",
     "text": [
      "['Broom', 'Bucket', 'Mop', 'Rug']\n"
     ]
    }
   ],
   "source": [
    "basket_list = [\"Mop\",\"Rug\",\"Broom\",\"Bucket\"]\n",
    "basket_list.sort()\n",
    "print(basket_list)"
   ]
  },
  {
   "cell_type": "code",
   "execution_count": 107,
   "metadata": {},
   "outputs": [
    {
     "name": "stdout",
     "output_type": "stream",
     "text": [
      "['Rug', 'Mop', 'Bucket', 'Broom']\n"
     ]
    }
   ],
   "source": [
    "basket_list = [\"Mop\",\"Rug\",\"Broom\",\"Bucket\"]\n",
    "basket_list.sort(reverse=True)\n",
    "print(basket_list)"
   ]
  },
  {
   "cell_type": "markdown",
   "metadata": {},
   "source": [
    "# Python Tuple methods"
   ]
  },
  {
   "cell_type": "code",
   "execution_count": 108,
   "metadata": {},
   "outputs": [
    {
     "name": "stdout",
     "output_type": "stream",
     "text": [
      "4\n"
     ]
    }
   ],
   "source": [
    "tup = (1,2,2,2,2,3,4,5,5,5,6,7,7)\n",
    "g = tup.count(2)\n",
    "print(g)"
   ]
  },
  {
   "cell_type": "code",
   "execution_count": 109,
   "metadata": {},
   "outputs": [
    {
     "name": "stdout",
     "output_type": "stream",
     "text": [
      "6\n"
     ]
    }
   ],
   "source": [
    "tup2 = (1,2,4,8,7,9,19,15,14)\n",
    "f = tup2.index(19)\n",
    "print(f)"
   ]
  },
  {
   "cell_type": "markdown",
   "metadata": {},
   "source": [
    "# Python Dictionary methods"
   ]
  },
  {
   "cell_type": "code",
   "execution_count": 1,
   "metadata": {},
   "outputs": [
    {
     "name": "stdout",
     "output_type": "stream",
     "text": [
      "{}\n"
     ]
    }
   ],
   "source": [
    "schools = {\n",
    "    \"MUK\": 5000,\n",
    "    \"MUBS\":3000,\n",
    "    \"Ndejje\":2500,\n",
    "    \"KIU\": 1500\n",
    "}\n",
    "\n",
    "schools.clear()\n",
    "print(schools)"
   ]
  },
  {
   "cell_type": "code",
   "execution_count": 2,
   "metadata": {},
   "outputs": [
    {
     "name": "stdout",
     "output_type": "stream",
     "text": [
      "{'MUK': 5000, 'MUBS': 3000, 'Ndejje': 2500, 'KIU': 1500}\n"
     ]
    }
   ],
   "source": [
    "schools = {\n",
    "    \"MUK\": 5000,\n",
    "    \"MUBS\":3000,\n",
    "    \"Ndejje\":2500,\n",
    "    \"KIU\": 1500\n",
    "}\n",
    "\n",
    "schools.copy()\n",
    "print(schools)"
   ]
  },
  {
   "cell_type": "code",
   "execution_count": 7,
   "metadata": {},
   "outputs": [
    {
     "name": "stdout",
     "output_type": "stream",
     "text": [
      "{'MUK': 'None', 'MUBS': 'None', 'Ndejje': 'None', 'KIU': 'None'}\n"
     ]
    }
   ],
   "source": [
    "dict_x = (\"MUK\",\"MUBS\",\"Ndejje\",\"KIU\")\n",
    "\n",
    "dict_y = 0\n",
    "\n",
    "mydict = dict.fromkeys(dict_x,dict_y)\n",
    "print(mydict)"
   ]
  },
  {
   "cell_type": "code",
   "execution_count": 5,
   "metadata": {},
   "outputs": [
    {
     "name": "stdout",
     "output_type": "stream",
     "text": [
      "{'MUK': None, 'MUBS': None, 'Ndejje': None, 'KIU': None}\n"
     ]
    }
   ],
   "source": [
    "schools = {\n",
    "    \"MUK\": 5000,\n",
    "    \"MUBS\":3000,\n",
    "    \"Ndejje\":250\n",
    "    \"KIU\": 1500\n",
    "}\n",
    "\n",
    "result = dict.fromkeys(schools)\n",
    "print(result)"
   ]
  },
  {
   "cell_type": "code",
   "execution_count": 8,
   "metadata": {},
   "outputs": [
    {
     "name": "stdout",
     "output_type": "stream",
     "text": [
      "1500\n"
     ]
    }
   ],
   "source": [
    "schools = {\n",
    "    \"MUK\": 5000,\n",
    "    \"MUBS\":3000,\n",
    "    \"Ndejje\":2500,\n",
    "    \"KIU\": 1500\n",
    "}\n",
    "\n",
    "result = schools.get(\"KIU\")\n",
    "\n",
    "print(result)"
   ]
  },
  {
   "cell_type": "code",
   "execution_count": 9,
   "metadata": {},
   "outputs": [
    {
     "name": "stdout",
     "output_type": "stream",
     "text": [
      "dict_items([('MUK', 5000), ('MUBS', 3000), ('Ndejje', 2500), ('KIU', 1500)])\n"
     ]
    }
   ],
   "source": [
    "schools = {\n",
    "    \"MUK\": 5000,\n",
    "    \"MUBS\":3000,\n",
    "    \"Ndejje\":2500,\n",
    "    \"KIU\": 1500\n",
    "}\n",
    "\n",
    "result = schools.items()\n",
    "\n",
    "print(result)"
   ]
  },
  {
   "cell_type": "code",
   "execution_count": 10,
   "metadata": {},
   "outputs": [
    {
     "name": "stdout",
     "output_type": "stream",
     "text": [
      "dict_keys(['MUK', 'MUBS', 'Ndejje', 'KIU'])\n"
     ]
    }
   ],
   "source": [
    "schools = {\n",
    "    \"MUK\": 5000,\n",
    "    \"MUBS\":3000,\n",
    "    \"Ndejje\":2500,\n",
    "    \"KIU\": 1500\n",
    "}\n",
    "\n",
    "result = schools.keys()\n",
    "\n",
    "print(result)"
   ]
  },
  {
   "cell_type": "code",
   "execution_count": 12,
   "metadata": {},
   "outputs": [
    {
     "name": "stdout",
     "output_type": "stream",
     "text": [
      "2500\n"
     ]
    }
   ],
   "source": [
    "schools = {\n",
    "    \"MUK\": 5000,\n",
    "    \"MUBS\":3000,\n",
    "    \"Ndejje\":2500,\n",
    "    \"KIU\": 1500\n",
    "}\n",
    "\n",
    "result = schools.pop(\"Ndejje\")\n",
    "\n",
    "print(result)"
   ]
  },
  {
   "cell_type": "code",
   "execution_count": 14,
   "metadata": {},
   "outputs": [
    {
     "name": "stdout",
     "output_type": "stream",
     "text": [
      "{'MUK': 5000, 'MUBS': 3000, 'Ndejje': 2500}\n"
     ]
    }
   ],
   "source": [
    "schools = {\n",
    "    \"MUK\": 5000,\n",
    "    \"MUBS\":3000,\n",
    "    \"Ndejje\":2500,\n",
    "    \"KIU\": 1500\n",
    "}\n",
    "\n",
    "schools.popitem()\n",
    "\n",
    "print(schools)"
   ]
  },
  {
   "cell_type": "code",
   "execution_count": 15,
   "metadata": {},
   "outputs": [
    {
     "name": "stdout",
     "output_type": "stream",
     "text": [
      "Students\n"
     ]
    }
   ],
   "source": [
    "schools = {\n",
    "    \"MUK\": 5000,\n",
    "    \"MUBS\":3000,\n",
    "    \"Ndejje\":2500,\n",
    "    \"KIU\": 1500\n",
    "}\n",
    "\n",
    "result = schools.setdefault(\"UIC\",\"Students\")\n",
    "\n",
    "print(result)"
   ]
  },
  {
   "cell_type": "code",
   "execution_count": 16,
   "metadata": {},
   "outputs": [
    {
     "name": "stdout",
     "output_type": "stream",
     "text": [
      "5000\n"
     ]
    }
   ],
   "source": [
    "schools = {\n",
    "    \"MUK\": 5000,\n",
    "    \"MUBS\":3000,\n",
    "    \"Ndejje\":2500,\n",
    "    \"KIU\": 1500\n",
    "}\n",
    "\n",
    "result = schools.setdefault(\"MUK\",\"Pupils\")\n",
    "\n",
    "print(result)"
   ]
  },
  {
   "cell_type": "code",
   "execution_count": 18,
   "metadata": {},
   "outputs": [
    {
     "name": "stdout",
     "output_type": "stream",
     "text": [
      "{'MUK': 5000, 'MUBS': 3000, 'Ndejje': 2500, 'KIU': 1500, 'ICU': 500}\n"
     ]
    }
   ],
   "source": [
    "schools = {\n",
    "    \"MUK\": 5000,\n",
    "    \"MUBS\":3000,\n",
    "    \"Ndejje\":2500,\n",
    "    \"KIU\": 1500\n",
    "}\n",
    "\n",
    "schools.update({\"ICU\":500})\n",
    "\n",
    "print(schools)"
   ]
  },
  {
   "cell_type": "code",
   "execution_count": 20,
   "metadata": {},
   "outputs": [
    {
     "name": "stdout",
     "output_type": "stream",
     "text": [
      "dict_values([5000, 3000, 2500, 1500])\n"
     ]
    }
   ],
   "source": [
    "schools = {\n",
    "    \"MUK\": 5000,\n",
    "    \"MUBS\":3000,\n",
    "    \"Ndejje\":2500,\n",
    "    \"KIU\": 1500\n",
    "}\n",
    "\n",
    "result = schools.values()\n",
    "\n",
    "print(result)"
   ]
  },
  {
   "cell_type": "markdown",
   "metadata": {},
   "source": [
    "# Python set methods"
   ]
  },
  {
   "cell_type": "code",
   "execution_count": 21,
   "metadata": {},
   "outputs": [
    {
     "name": "stdout",
     "output_type": "stream",
     "text": [
      "{'Pens', 'Rulers', 'Makers', 'Books', 'Pencils'}\n"
     ]
    }
   ],
   "source": [
    "Gocerry = {\"Pens\", \"Books\", \"Pencils\", \"Rulers\"}\n",
    "\n",
    "Gocerry.add(\"Makers\")\n",
    "\n",
    "print(Gocerry)"
   ]
  },
  {
   "cell_type": "code",
   "execution_count": 22,
   "metadata": {},
   "outputs": [
    {
     "name": "stdout",
     "output_type": "stream",
     "text": [
      "set()\n"
     ]
    }
   ],
   "source": [
    "Gocerry = {\"Pens\", \"Books\", \"Pencils\", \"Rulers\"}\n",
    "\n",
    "Gocerry.clear()\n",
    "\n",
    "print(Gocerry)"
   ]
  },
  {
   "cell_type": "code",
   "execution_count": 23,
   "metadata": {},
   "outputs": [
    {
     "name": "stdout",
     "output_type": "stream",
     "text": [
      "{'Rulers', 'Books', 'Pencils', 'Pens'}\n"
     ]
    }
   ],
   "source": [
    "Gocerry = {\"Pens\", \"Books\", \"Pencils\", \"Rulers\"}\n",
    "\n",
    "Gocerry.copy()\n",
    "\n",
    "print(Gocerry)"
   ]
  },
  {
   "cell_type": "code",
   "execution_count": 27,
   "metadata": {},
   "outputs": [
    {
     "name": "stdout",
     "output_type": "stream",
     "text": [
      "{'Books', 'Pens'}\n"
     ]
    }
   ],
   "source": [
    "Gocerry = {\"Pens\", \"Books\", \"Brooms\",\"Buckets\"}\n",
    "\n",
    "Bucket = {\"Mop\",\"Rugs\",\"Brooms\",\"Buckets\"}\n",
    "\n",
    "result = Gocerry.difference(Bucket)\n",
    "\n",
    "print(result)"
   ]
  },
  {
   "cell_type": "code",
   "execution_count": 28,
   "metadata": {},
   "outputs": [
    {
     "name": "stdout",
     "output_type": "stream",
     "text": [
      "{'Brooms', 'Buckets'}\n"
     ]
    }
   ],
   "source": [
    "Gocerry = {\"Pens\", \"Books\", \"Brooms\",\"Buckets\"}\n",
    "\n",
    "Bucket = {\"Mop\",\"Rugs\",\"Brooms\",\"Buckets\"}\n",
    "\n",
    "result = Gocerry.intersection(Bucket)\n",
    "\n",
    "print(result)"
   ]
  },
  {
   "cell_type": "code",
   "execution_count": 30,
   "metadata": {},
   "outputs": [
    {
     "name": "stdout",
     "output_type": "stream",
     "text": [
      "True\n"
     ]
    }
   ],
   "source": [
    "Gocerry = {\"Brooms\",\"Buckets\"}\n",
    "\n",
    "Bucket = {\"Mop\",\"Rugs\",\"Brooms\",\"Buckets\"}\n",
    "\n",
    "result = Gocerry.issubset(Bucket)\n",
    "\n",
    "print(result)"
   ]
  },
  {
   "cell_type": "code",
   "execution_count": 29,
   "metadata": {},
   "outputs": [
    {
     "name": "stdout",
     "output_type": "stream",
     "text": [
      "False\n"
     ]
    }
   ],
   "source": [
    "Gocerry = {\"Pens\", \"Books\", \"Brooms\",\"Buckets\"}\n",
    "\n",
    "Bucket = {\"Mop\",\"Rugs\",\"Brooms\",\"Buckets\"}\n",
    "\n",
    "result = Gocerry.issubset(Bucket)\n",
    "\n",
    "print(result)"
   ]
  },
  {
   "cell_type": "code",
   "execution_count": 32,
   "metadata": {},
   "outputs": [
    {
     "name": "stdout",
     "output_type": "stream",
     "text": [
      "True\n"
     ]
    }
   ],
   "source": [
    "Gocerry = {\"Pens\", \"Books\", \"Brooms\",\"Buckets\"}\n",
    "\n",
    "Bucket = {\"Brooms\",\"Buckets\"}\n",
    "\n",
    "result = Gocerry.issuperset(Bucket)\n",
    "\n",
    "print(result)"
   ]
  },
  {
   "cell_type": "code",
   "execution_count": 33,
   "metadata": {},
   "outputs": [
    {
     "name": "stdout",
     "output_type": "stream",
     "text": [
      "{'Buckets', 'Books', 'Pens'}\n"
     ]
    }
   ],
   "source": [
    "Gocerry = {\"Pens\", \"Books\", \"Brooms\",\"Buckets\"}\n",
    "\n",
    "Gocerry.pop()\n",
    "\n",
    "print(Gocerry)"
   ]
  },
  {
   "cell_type": "code",
   "execution_count": 34,
   "metadata": {},
   "outputs": [
    {
     "name": "stdout",
     "output_type": "stream",
     "text": [
      "{'Brooms', 'Buckets', 'Books'}\n"
     ]
    }
   ],
   "source": [
    "Gocerry = {\"Pens\", \"Books\", \"Brooms\",\"Buckets\"}\n",
    "\n",
    "Gocerry.remove(\"Pens\")\n",
    "\n",
    "print(Gocerry)"
   ]
  },
  {
   "cell_type": "code",
   "execution_count": 35,
   "metadata": {},
   "outputs": [
    {
     "name": "stdout",
     "output_type": "stream",
     "text": [
      "{'Pens', 'Mop', 'Books', 'Rugs'}\n"
     ]
    }
   ],
   "source": [
    "Gocerry = {\"Pens\", \"Books\", \"Brooms\",\"Buckets\"}\n",
    "\n",
    "Bucket = {\"Mop\",\"Rugs\",\"Brooms\",\"Buckets\"}\n",
    "\n",
    "result = Gocerry.symmetric_difference(Bucket)\n",
    "\n",
    "print(result)"
   ]
  },
  {
   "cell_type": "code",
   "execution_count": 36,
   "metadata": {},
   "outputs": [
    {
     "name": "stdout",
     "output_type": "stream",
     "text": [
      "{'Pens', 'Brooms', 'Mop', 'Buckets', 'Books', 'Rugs'}\n"
     ]
    }
   ],
   "source": [
    "Gocerry = {\"Pens\", \"Books\", \"Brooms\",\"Buckets\"}\n",
    "\n",
    "Bucket = {\"Mop\",\"Rugs\",\"Brooms\",\"Buckets\"}\n",
    "\n",
    "result = Gocerry.union(Bucket)\n",
    "\n",
    "print(result)"
   ]
  },
  {
   "cell_type": "code",
   "execution_count": 38,
   "metadata": {},
   "outputs": [
    {
     "name": "stdout",
     "output_type": "stream",
     "text": [
      "{'Pens', 'Brooms', 'Mop', 'Buckets', 'Books', 'Rugs'}\n"
     ]
    }
   ],
   "source": [
    "Gocerry = {\"Pens\", \"Books\", \"Brooms\",\"Buckets\"}\n",
    "\n",
    "Bucket = {\"Mop\",\"Rugs\",\"Brooms\",\"Buckets\"}\n",
    "\n",
    "Gocerry.update(Bucket)\n",
    "\n",
    "print(Gocerry)"
   ]
  },
  {
   "cell_type": "markdown",
   "metadata": {},
   "source": [
    "# Python file methods"
   ]
  },
  {
   "cell_type": "code",
   "execution_count": 41,
   "metadata": {},
   "outputs": [
    {
     "ename": "FileNotFoundError",
     "evalue": "[Errno 2] No such file or directory: 'CFG/song.txt'",
     "output_type": "error",
     "traceback": [
      "\u001b[0;31m---------------------------------------------------------------------------\u001b[0m",
      "\u001b[0;31mFileNotFoundError\u001b[0m                         Traceback (most recent call last)",
      "\u001b[0;32m<ipython-input-41-5143883b25b4>\u001b[0m in \u001b[0;36m<module>\u001b[0;34m\u001b[0m\n\u001b[0;32m----> 1\u001b[0;31m \u001b[0mfile\u001b[0m \u001b[0;34m=\u001b[0m \u001b[0mopen\u001b[0m\u001b[0;34m(\u001b[0m\u001b[0;34m\"CFG/song.txt\"\u001b[0m\u001b[0;34m,\u001b[0m \u001b[0;34m\"r\"\u001b[0m\u001b[0;34m)\u001b[0m\u001b[0;34m\u001b[0m\u001b[0;34m\u001b[0m\u001b[0m\n\u001b[0m\u001b[1;32m      2\u001b[0m \u001b[0mprint\u001b[0m\u001b[0;34m(\u001b[0m\u001b[0mfile\u001b[0m\u001b[0;34m.\u001b[0m\u001b[0mread\u001b[0m\u001b[0;34m(\u001b[0m\u001b[0;34m)\u001b[0m\u001b[0;34m)\u001b[0m\u001b[0;34m\u001b[0m\u001b[0;34m\u001b[0m\u001b[0m\n",
      "\u001b[0;31mFileNotFoundError\u001b[0m: [Errno 2] No such file or directory: 'CFG/song.txt'"
     ]
    }
   ],
   "source": [
    "file = open(\"CFG/song.txt\", \"r\")\n",
    "print(file.read())"
   ]
  },
  {
   "cell_type": "code",
   "execution_count": null,
   "metadata": {},
   "outputs": [],
   "source": []
  },
  {
   "cell_type": "code",
   "execution_count": null,
   "metadata": {},
   "outputs": [],
   "source": []
  }
 ],
 "metadata": {
  "kernelspec": {
   "display_name": "Python 3",
   "language": "python",
   "name": "python3"
  },
  "language_info": {
   "codemirror_mode": {
    "name": "ipython",
    "version": 3
   },
   "file_extension": ".py",
   "mimetype": "text/x-python",
   "name": "python",
   "nbconvert_exporter": "python",
   "pygments_lexer": "ipython3",
   "version": "3.8.5"
  }
 },
 "nbformat": 4,
 "nbformat_minor": 4
}
